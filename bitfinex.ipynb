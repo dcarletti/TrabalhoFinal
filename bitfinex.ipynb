{
 "cells": [
  {
   "cell_type": "code",
   "execution_count": 79,
   "metadata": {
    "collapsed": true
   },
   "outputs": [],
   "source": [
    "import requests\n",
    "import time\n",
    "import datetime"
   ]
  },
  {
   "cell_type": "code",
   "execution_count": 90,
   "metadata": {},
   "outputs": [],
   "source": [
    "def get_ochlw(start=None,end=None,limit=100):\n",
    "    '''\n",
    "    start e end sao timestamps em milisegundos\n",
    "    limit e entre 1 e 1000\n",
    "    retorna uma dupla com booleano se deu certo e uma lista\n",
    "    '''\n",
    "    url='https://api.bitfinex.com/v2/candles/trade:5m:tBTCUSD/hist?sort=1&limit='+str(limit)\n",
    "    if(start!=None):\n",
    "        url=url+'&start='+str(start)\n",
    "    if(end!=None):\n",
    "        url=url+'&end='+str(end)\n",
    "    pagina=requests.get(url)\n",
    "    texto=pagina.text\n",
    "    lista=eval(texto)\n",
    "    if len(lista)==0:\n",
    "        return True,[]\n",
    "    if lista[0]=='error':\n",
    "        time.sleep(20)\n",
    "        return False,[]\n",
    "    return True,lista"
   ]
  },
  {
   "cell_type": "code",
   "execution_count": 93,
   "metadata": {},
   "outputs": [],
   "source": [
    "def get_ochlwsuper(start,end=None):\n",
    "    '''\n",
    "    Funcao devolve todos ou valores ochl entre start e end em milisegundos\n",
    "    '''\n",
    "    flag=False\n",
    "    ochl=[]\n",
    "    while(not flag):\n",
    "        flag,lista=get_ochlw(start,end,1000)\n",
    "    tam=len(lista)\n",
    "    while(tam!=0):\n",
    "        ochl=ochl+lista\n",
    "        start=lista[-1][0]+1\n",
    "        while(not flag):\n",
    "            flag,lista=get_ochlw(start,end,1000)\n",
    "        flag=False\n",
    "        tam=len(lista)\n",
    "        print(len(ochl))\n",
    "    return ochl"
   ]
  },
  {
   "cell_type": "code",
   "execution_count": null,
   "metadata": {},
   "outputs": [],
   "source": []
  },
  {
   "cell_type": "code",
   "execution_count": null,
   "metadata": {},
   "outputs": [],
   "source": []
  },
  {
   "cell_type": "code",
   "execution_count": null,
   "metadata": {},
   "outputs": [],
   "source": []
  },
  {
   "cell_type": "code",
   "execution_count": null,
   "metadata": {},
   "outputs": [],
   "source": []
  },
  {
   "cell_type": "code",
   "execution_count": null,
   "metadata": {
    "collapsed": true
   },
   "outputs": [],
   "source": []
  },
  {
   "cell_type": "code",
   "execution_count": null,
   "metadata": {
    "collapsed": true
   },
   "outputs": [],
   "source": []
  }
 ],
 "metadata": {
  "kernelspec": {
   "display_name": "Python 3",
   "language": "python",
   "name": "python3"
  },
  "language_info": {
   "codemirror_mode": {
    "name": "ipython",
    "version": 3
   },
   "file_extension": ".py",
   "mimetype": "text/x-python",
   "name": "python",
   "nbconvert_exporter": "python",
   "pygments_lexer": "ipython3",
   "version": "3.6.3"
  }
 },
 "nbformat": 4,
 "nbformat_minor": 2
}
